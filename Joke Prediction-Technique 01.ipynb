{
 "cells": [
  {
   "cell_type": "code",
   "execution_count": 1,
   "id": "f86decce",
   "metadata": {},
   "outputs": [],
   "source": [
    "# import required libraries \n",
    "import pandas as pd"
   ]
  },
  {
   "cell_type": "code",
   "execution_count": 2,
   "id": "d1b6963b",
   "metadata": {},
   "outputs": [],
   "source": [
    "# load train dataset to dataframe\n",
    "df_train = pd.read_csv(r'C:\\Users\\Supun\\Desktop\\Data Mining\\Project\\Dataset\\train\\train.csv')"
   ]
  },
  {
   "cell_type": "code",
   "execution_count": 3,
   "id": "690a645e",
   "metadata": {},
   "outputs": [
    {
     "data": {
      "text/html": [
       "<div>\n",
       "<style scoped>\n",
       "    .dataframe tbody tr th:only-of-type {\n",
       "        vertical-align: middle;\n",
       "    }\n",
       "\n",
       "    .dataframe tbody tr th {\n",
       "        vertical-align: top;\n",
       "    }\n",
       "\n",
       "    .dataframe thead th {\n",
       "        text-align: right;\n",
       "    }\n",
       "</style>\n",
       "<table border=\"1\" class=\"dataframe\">\n",
       "  <thead>\n",
       "    <tr style=\"text-align: right;\">\n",
       "      <th></th>\n",
       "      <th>id</th>\n",
       "      <th>user_id</th>\n",
       "      <th>joke_id</th>\n",
       "      <th>Rating</th>\n",
       "    </tr>\n",
       "  </thead>\n",
       "  <tbody>\n",
       "    <tr>\n",
       "      <th>0</th>\n",
       "      <td>31030_110</td>\n",
       "      <td>31030</td>\n",
       "      <td>110</td>\n",
       "      <td>2.750</td>\n",
       "    </tr>\n",
       "    <tr>\n",
       "      <th>1</th>\n",
       "      <td>16144_109</td>\n",
       "      <td>16144</td>\n",
       "      <td>109</td>\n",
       "      <td>5.094</td>\n",
       "    </tr>\n",
       "    <tr>\n",
       "      <th>2</th>\n",
       "      <td>23098_6</td>\n",
       "      <td>23098</td>\n",
       "      <td>6</td>\n",
       "      <td>-6.438</td>\n",
       "    </tr>\n",
       "    <tr>\n",
       "      <th>3</th>\n",
       "      <td>14273_86</td>\n",
       "      <td>14273</td>\n",
       "      <td>86</td>\n",
       "      <td>4.406</td>\n",
       "    </tr>\n",
       "    <tr>\n",
       "      <th>4</th>\n",
       "      <td>18419_134</td>\n",
       "      <td>18419</td>\n",
       "      <td>134</td>\n",
       "      <td>9.375</td>\n",
       "    </tr>\n",
       "  </tbody>\n",
       "</table>\n",
       "</div>"
      ],
      "text/plain": [
       "          id  user_id  joke_id  Rating\n",
       "0  31030_110    31030      110   2.750\n",
       "1  16144_109    16144      109   5.094\n",
       "2    23098_6    23098        6  -6.438\n",
       "3   14273_86    14273       86   4.406\n",
       "4  18419_134    18419      134   9.375"
      ]
     },
     "execution_count": 3,
     "metadata": {},
     "output_type": "execute_result"
    }
   ],
   "source": [
    "# display first five rows of train dataset\n",
    "df_train.head()"
   ]
  },
  {
   "cell_type": "code",
   "execution_count": 4,
   "id": "e104f49c",
   "metadata": {},
   "outputs": [
    {
     "data": {
      "text/plain": [
       "(1092059, 4)"
      ]
     },
     "execution_count": 4,
     "metadata": {},
     "output_type": "execute_result"
    }
   ],
   "source": [
    "# display shape of train dataset\n",
    "df_train.shape"
   ]
  },
  {
   "cell_type": "code",
   "execution_count": 5,
   "id": "71920245",
   "metadata": {},
   "outputs": [
    {
     "data": {
      "text/plain": [
       "id         0\n",
       "user_id    0\n",
       "joke_id    0\n",
       "Rating     0\n",
       "dtype: int64"
      ]
     },
     "execution_count": 5,
     "metadata": {},
     "output_type": "execute_result"
    }
   ],
   "source": [
    "# check for missing values in train dataset\n",
    "df_train.isnull().sum()"
   ]
  },
  {
   "cell_type": "code",
   "execution_count": 6,
   "id": "6e8fa1ae",
   "metadata": {},
   "outputs": [
    {
     "name": "stdout",
     "output_type": "stream",
     "text": [
      "Column: user_id\n",
      "Minimum value: 1\n",
      "Maximum value: 40863\n",
      "\n",
      "Column: joke_id\n",
      "Minimum value: 1\n",
      "Maximum value: 139\n",
      "\n",
      "Column: Rating\n",
      "Minimum value: -10.0\n",
      "Maximum value: 10.0\n"
     ]
    }
   ],
   "source": [
    "# check is there any irrelevent data in train dataset\n",
    "print('Column: user_id')\n",
    "print('Minimum value: ' + str(df_train['user_id'].min()))\n",
    "print('Maximum value: ' + str(df_train['user_id'].max()))\n",
    "print('')\n",
    "print('Column: joke_id')\n",
    "print('Minimum value: ' + str(df_train['joke_id'].min()))\n",
    "print('Maximum value: ' + str(df_train['joke_id'].max()))\n",
    "print('')\n",
    "print('Column: Rating')\n",
    "print('Minimum value: ' + str(df_train['Rating'].min()))\n",
    "print('Maximum value: ' + str(df_train['Rating'].max()))"
   ]
  },
  {
   "cell_type": "code",
   "execution_count": 7,
   "id": "fa67be55",
   "metadata": {},
   "outputs": [
    {
     "data": {
      "text/plain": [
       "0"
      ]
     },
     "execution_count": 7,
     "metadata": {},
     "output_type": "execute_result"
    }
   ],
   "source": [
    "# check for duplicate values in train dataset\n",
    "df_train.duplicated(['id']).sum()"
   ]
  },
  {
   "cell_type": "code",
   "execution_count": 8,
   "id": "5165fc87",
   "metadata": {},
   "outputs": [
    {
     "data": {
      "text/plain": [
       "<AxesSubplot: >"
      ]
     },
     "execution_count": 8,
     "metadata": {},
     "output_type": "execute_result"
    },
    {
     "data": {
      "image/png": "[encoded data removed]",
      "text/plain": [
       "<Figure size 432x288 with 1 Axes>"
      ]
     },
     "metadata": {
      "needs_background": "light"
     },
     "output_type": "display_data"
    }
   ],
   "source": [
    "# display ratings of first 50 records\n",
    "df_train['Rating'].head(50).plot.line()"
   ]
  },
  {
   "cell_type": "code",
   "execution_count": 9,
   "id": "ef6d518d",
   "metadata": {},
   "outputs": [],
   "source": [
    "# load jokes dataset to dataframe\n",
    "df_jokes = pd.read_csv(r'C:\\Users\\Supun\\Desktop\\Data Mining\\Project\\Dataset\\train\\jokes.csv')"
   ]
  },
  {
   "cell_type": "code",
   "execution_count": 10,
   "id": "1ec66f84",
   "metadata": {},
   "outputs": [
    {
     "data": {
      "text/html": [
       "<div>\n",
       "<style scoped>\n",
       "    .dataframe tbody tr th:only-of-type {\n",
       "        vertical-align: middle;\n",
       "    }\n",
       "\n",
       "    .dataframe tbody tr th {\n",
       "        vertical-align: top;\n",
       "    }\n",
       "\n",
       "    .dataframe thead th {\n",
       "        text-align: right;\n",
       "    }\n",
       "</style>\n",
       "<table border=\"1\" class=\"dataframe\">\n",
       "  <thead>\n",
       "    <tr style=\"text-align: right;\">\n",
       "      <th></th>\n",
       "      <th>joke_id</th>\n",
       "      <th>joke_text</th>\n",
       "    </tr>\n",
       "  </thead>\n",
       "  <tbody>\n",
       "    <tr>\n",
       "      <th>0</th>\n",
       "      <td>1</td>\n",
       "      <td>Q. What's O. J. Simpson's web address? A. Slas...</td>\n",
       "    </tr>\n",
       "    <tr>\n",
       "      <th>1</th>\n",
       "      <td>2</td>\n",
       "      <td>How many feminists does it take to screw in a ...</td>\n",
       "    </tr>\n",
       "    <tr>\n",
       "      <th>2</th>\n",
       "      <td>3</td>\n",
       "      <td>Q. Did you hear about the dyslexic devil worsh...</td>\n",
       "    </tr>\n",
       "    <tr>\n",
       "      <th>3</th>\n",
       "      <td>4</td>\n",
       "      <td>They asked the Japanese visitor if they have e...</td>\n",
       "    </tr>\n",
       "    <tr>\n",
       "      <th>4</th>\n",
       "      <td>5</td>\n",
       "      <td>Q: What did the blind person say when given so...</td>\n",
       "    </tr>\n",
       "  </tbody>\n",
       "</table>\n",
       "</div>"
      ],
      "text/plain": [
       "   joke_id                                          joke_text\n",
       "0        1  Q. What's O. J. Simpson's web address? A. Slas...\n",
       "1        2  How many feminists does it take to screw in a ...\n",
       "2        3  Q. Did you hear about the dyslexic devil worsh...\n",
       "3        4  They asked the Japanese visitor if they have e...\n",
       "4        5  Q: What did the blind person say when given so..."
      ]
     },
     "execution_count": 10,
     "metadata": {},
     "output_type": "execute_result"
    }
   ],
   "source": [
    "# display first five rows of jokes dataset\n",
    "df_jokes.head()"
   ]
  },
  {
   "cell_type": "code",
   "execution_count": 11,
   "id": "868a303e",
   "metadata": {},
   "outputs": [
    {
     "data": {
      "text/plain": [
       "(139, 2)"
      ]
     },
     "execution_count": 11,
     "metadata": {},
     "output_type": "execute_result"
    }
   ],
   "source": [
    "# display shape of jokes dataset\n",
    "df_jokes.shape"
   ]
  },
  {
   "cell_type": "code",
   "execution_count": 12,
   "id": "e2582c63",
   "metadata": {},
   "outputs": [
    {
     "data": {
      "text/plain": [
       "joke_id      0\n",
       "joke_text    0\n",
       "dtype: int64"
      ]
     },
     "execution_count": 12,
     "metadata": {},
     "output_type": "execute_result"
    }
   ],
   "source": [
    "# checking for null values in jokes dataset\n",
    "df_jokes.isnull().sum()"
   ]
  },
  {
   "cell_type": "code",
   "execution_count": 13,
   "id": "c8e924c9",
   "metadata": {},
   "outputs": [
    {
     "name": "stdout",
     "output_type": "stream",
     "text": [
      "Column: joke_id\n",
      "Minimum value: 1\n",
      "Maximum value: 139\n"
     ]
    }
   ],
   "source": [
    "# check is there any irrelevent data in jokes dataset\n",
    "print('Column: joke_id')\n",
    "print('Minimum value: ' + str(df_jokes['joke_id'].min()))\n",
    "print('Maximum value: ' + str(df_jokes['joke_id'].max()))"
   ]
  },
  {
   "cell_type": "code",
   "execution_count": 14,
   "id": "d18e98fb",
   "metadata": {},
   "outputs": [
    {
     "data": {
      "text/plain": [
       "0"
      ]
     },
     "execution_count": 14,
     "metadata": {},
     "output_type": "execute_result"
    }
   ],
   "source": [
    "# check for duplicate values in train dataset\n",
    "df_jokes.duplicated(['joke_id']).sum()"
   ]
  },
  {
   "cell_type": "code",
   "execution_count": 15,
   "id": "2d195465",
   "metadata": {},
   "outputs": [
    {
     "data": {
      "text/html": [
       "<div>\n",
       "<style scoped>\n",
       "    .dataframe tbody tr th:only-of-type {\n",
       "        vertical-align: middle;\n",
       "    }\n",
       "\n",
       "    .dataframe tbody tr th {\n",
       "        vertical-align: top;\n",
       "    }\n",
       "\n",
       "    .dataframe thead th {\n",
       "        text-align: right;\n",
       "    }\n",
       "</style>\n",
       "<table border=\"1\" class=\"dataframe\">\n",
       "  <thead>\n",
       "    <tr style=\"text-align: right;\">\n",
       "      <th></th>\n",
       "      <th>id</th>\n",
       "      <th>user_id</th>\n",
       "      <th>joke_id</th>\n",
       "      <th>Rating</th>\n",
       "      <th>joke_text</th>\n",
       "    </tr>\n",
       "  </thead>\n",
       "  <tbody>\n",
       "    <tr>\n",
       "      <th>0</th>\n",
       "      <td>31030_110</td>\n",
       "      <td>31030</td>\n",
       "      <td>110</td>\n",
       "      <td>2.750</td>\n",
       "      <td>Judy was having trouble with her computer, so ...</td>\n",
       "    </tr>\n",
       "    <tr>\n",
       "      <th>1</th>\n",
       "      <td>9137_110</td>\n",
       "      <td>9137</td>\n",
       "      <td>110</td>\n",
       "      <td>1.719</td>\n",
       "      <td>Judy was having trouble with her computer, so ...</td>\n",
       "    </tr>\n",
       "    <tr>\n",
       "      <th>2</th>\n",
       "      <td>27649_110</td>\n",
       "      <td>27649</td>\n",
       "      <td>110</td>\n",
       "      <td>5.031</td>\n",
       "      <td>Judy was having trouble with her computer, so ...</td>\n",
       "    </tr>\n",
       "    <tr>\n",
       "      <th>3</th>\n",
       "      <td>35355_110</td>\n",
       "      <td>35355</td>\n",
       "      <td>110</td>\n",
       "      <td>3.031</td>\n",
       "      <td>Judy was having trouble with her computer, so ...</td>\n",
       "    </tr>\n",
       "    <tr>\n",
       "      <th>4</th>\n",
       "      <td>5478_110</td>\n",
       "      <td>5478</td>\n",
       "      <td>110</td>\n",
       "      <td>3.094</td>\n",
       "      <td>Judy was having trouble with her computer, so ...</td>\n",
       "    </tr>\n",
       "  </tbody>\n",
       "</table>\n",
       "</div>"
      ],
      "text/plain": [
       "          id  user_id  joke_id  Rating  \\\n",
       "0  31030_110    31030      110   2.750   \n",
       "1   9137_110     9137      110   1.719   \n",
       "2  27649_110    27649      110   5.031   \n",
       "3  35355_110    35355      110   3.031   \n",
       "4   5478_110     5478      110   3.094   \n",
       "\n",
       "                                           joke_text  \n",
       "0  Judy was having trouble with her computer, so ...  \n",
       "1  Judy was having trouble with her computer, so ...  \n",
       "2  Judy was having trouble with her computer, so ...  \n",
       "3  Judy was having trouble with her computer, so ...  \n",
       "4  Judy was having trouble with her computer, so ...  "
      ]
     },
     "execution_count": 15,
     "metadata": {},
     "output_type": "execute_result"
    }
   ],
   "source": [
    "# merging train and jokes dataframes to make final dataframe\n",
    "df = pd.merge(df_train, df_jokes, on='joke_id', how='outer')\n",
    "df.head()"
   ]
  },
  {
   "cell_type": "code",
   "execution_count": 16,
   "id": "a81e2fc3",
   "metadata": {},
   "outputs": [
    {
     "data": {
      "text/html": [
       "<div>\n",
       "<style scoped>\n",
       "    .dataframe tbody tr th:only-of-type {\n",
       "        vertical-align: middle;\n",
       "    }\n",
       "\n",
       "    .dataframe tbody tr th {\n",
       "        vertical-align: top;\n",
       "    }\n",
       "\n",
       "    .dataframe thead th {\n",
       "        text-align: right;\n",
       "    }\n",
       "</style>\n",
       "<table border=\"1\" class=\"dataframe\">\n",
       "  <thead>\n",
       "    <tr style=\"text-align: right;\">\n",
       "      <th></th>\n",
       "      <th>Rating</th>\n",
       "      <th>joke_id</th>\n",
       "      <th>user_id</th>\n",
       "    </tr>\n",
       "  </thead>\n",
       "  <tbody>\n",
       "    <tr>\n",
       "      <th>429216</th>\n",
       "      <td>2.125</td>\n",
       "      <td>66</td>\n",
       "      <td>29000</td>\n",
       "    </tr>\n",
       "    <tr>\n",
       "      <th>652866</th>\n",
       "      <td>-0.594</td>\n",
       "      <td>2</td>\n",
       "      <td>34385</td>\n",
       "    </tr>\n",
       "    <tr>\n",
       "      <th>520932</th>\n",
       "      <td>1.938</td>\n",
       "      <td>102</td>\n",
       "      <td>29852</td>\n",
       "    </tr>\n",
       "    <tr>\n",
       "      <th>784852</th>\n",
       "      <td>9.125</td>\n",
       "      <td>125</td>\n",
       "      <td>16845</td>\n",
       "    </tr>\n",
       "    <tr>\n",
       "      <th>527899</th>\n",
       "      <td>2.656</td>\n",
       "      <td>127</td>\n",
       "      <td>24802</td>\n",
       "    </tr>\n",
       "  </tbody>\n",
       "</table>\n",
       "</div>"
      ],
      "text/plain": [
       "        Rating  joke_id  user_id\n",
       "429216   2.125       66    29000\n",
       "652866  -0.594        2    34385\n",
       "520932   1.938      102    29852\n",
       "784852   9.125      125    16845\n",
       "527899   2.656      127    24802"
      ]
     },
     "execution_count": 16,
     "metadata": {},
     "output_type": "execute_result"
    }
   ],
   "source": [
    "# create dataframe using user_id, joke_id and rating with 10,000 data objects\n",
    "df = df[{'user_id', 'joke_id', 'Rating'}]\n",
    "df = df.sample(10000, random_state=100)\n",
    "df.head()"
   ]
  },
  {
   "cell_type": "code",
   "execution_count": 17,
   "id": "540847f0",
   "metadata": {},
   "outputs": [
    {
     "data": {
      "text/html": [
       "<div>\n",
       "<style scoped>\n",
       "    .dataframe tbody tr th:only-of-type {\n",
       "        vertical-align: middle;\n",
       "    }\n",
       "\n",
       "    .dataframe tbody tr th {\n",
       "        vertical-align: top;\n",
       "    }\n",
       "\n",
       "    .dataframe thead th {\n",
       "        text-align: right;\n",
       "    }\n",
       "</style>\n",
       "<table border=\"1\" class=\"dataframe\">\n",
       "  <thead>\n",
       "    <tr style=\"text-align: right;\">\n",
       "      <th></th>\n",
       "      <th>joke_id</th>\n",
       "      <th>user_id</th>\n",
       "    </tr>\n",
       "  </thead>\n",
       "  <tbody>\n",
       "    <tr>\n",
       "      <th>429216</th>\n",
       "      <td>66</td>\n",
       "      <td>29000</td>\n",
       "    </tr>\n",
       "    <tr>\n",
       "      <th>652866</th>\n",
       "      <td>2</td>\n",
       "      <td>34385</td>\n",
       "    </tr>\n",
       "    <tr>\n",
       "      <th>520932</th>\n",
       "      <td>102</td>\n",
       "      <td>29852</td>\n",
       "    </tr>\n",
       "    <tr>\n",
       "      <th>784852</th>\n",
       "      <td>125</td>\n",
       "      <td>16845</td>\n",
       "    </tr>\n",
       "    <tr>\n",
       "      <th>527899</th>\n",
       "      <td>127</td>\n",
       "      <td>24802</td>\n",
       "    </tr>\n",
       "  </tbody>\n",
       "</table>\n",
       "</div>"
      ],
      "text/plain": [
       "        joke_id  user_id\n",
       "429216       66    29000\n",
       "652866        2    34385\n",
       "520932      102    29852\n",
       "784852      125    16845\n",
       "527899      127    24802"
      ]
     },
     "execution_count": 17,
     "metadata": {},
     "output_type": "execute_result"
    }
   ],
   "source": [
    "# create independent variables\n",
    "X = df.drop(['Rating'], axis = 1)\n",
    "X.head()"
   ]
  },
  {
   "cell_type": "code",
   "execution_count": 18,
   "id": "843aad08",
   "metadata": {},
   "outputs": [
    {
     "data": {
      "text/plain": [
       "429216    2.125\n",
       "652866   -0.594\n",
       "520932    1.938\n",
       "784852    9.125\n",
       "527899    2.656\n",
       "Name: Rating, dtype: float64"
      ]
     },
     "execution_count": 18,
     "metadata": {},
     "output_type": "execute_result"
    }
   ],
   "source": [
    "# create dependent variables\n",
    "y = df['Rating']\n",
    "y.head()"
   ]
  },
  {
   "cell_type": "code",
   "execution_count": 19,
   "id": "3d0c40af",
   "metadata": {},
   "outputs": [
    {
     "data": {
      "text/html": [
       "<div>\n",
       "<style scoped>\n",
       "    .dataframe tbody tr th:only-of-type {\n",
       "        vertical-align: middle;\n",
       "    }\n",
       "\n",
       "    .dataframe tbody tr th {\n",
       "        vertical-align: top;\n",
       "    }\n",
       "\n",
       "    .dataframe thead th {\n",
       "        text-align: right;\n",
       "    }\n",
       "</style>\n",
       "<table border=\"1\" class=\"dataframe\">\n",
       "  <thead>\n",
       "    <tr style=\"text-align: right;\">\n",
       "      <th></th>\n",
       "      <th>joke_id</th>\n",
       "      <th>user_id</th>\n",
       "    </tr>\n",
       "  </thead>\n",
       "  <tbody>\n",
       "    <tr>\n",
       "      <th>0</th>\n",
       "      <td>0.467153</td>\n",
       "      <td>0.709681</td>\n",
       "    </tr>\n",
       "    <tr>\n",
       "      <th>1</th>\n",
       "      <td>0.000000</td>\n",
       "      <td>0.841466</td>\n",
       "    </tr>\n",
       "    <tr>\n",
       "      <th>2</th>\n",
       "      <td>0.729927</td>\n",
       "      <td>0.730532</td>\n",
       "    </tr>\n",
       "    <tr>\n",
       "      <th>3</th>\n",
       "      <td>0.897810</td>\n",
       "      <td>0.412217</td>\n",
       "    </tr>\n",
       "    <tr>\n",
       "      <th>4</th>\n",
       "      <td>0.912409</td>\n",
       "      <td>0.606945</td>\n",
       "    </tr>\n",
       "  </tbody>\n",
       "</table>\n",
       "</div>"
      ],
      "text/plain": [
       "    joke_id   user_id\n",
       "0  0.467153  0.709681\n",
       "1  0.000000  0.841466\n",
       "2  0.729927  0.730532\n",
       "3  0.897810  0.412217\n",
       "4  0.912409  0.606945"
      ]
     },
     "execution_count": 19,
     "metadata": {},
     "output_type": "execute_result"
    }
   ],
   "source": [
    "# normalizing features set (every feature normalized separately)\n",
    "from sklearn.preprocessing import MinMaxScaler\n",
    "\n",
    "scaler = MinMaxScaler()\n",
    "headers = X.columns\n",
    "temp_X = scaler.fit_transform(X)\n",
    "scaled_X = pd.DataFrame(temp_X, columns=headers)\n",
    "scaled_X.head()"
   ]
  },
  {
   "cell_type": "code",
   "execution_count": 20,
   "id": "4df219f8",
   "metadata": {},
   "outputs": [],
   "source": [
    "# cross-validation to model traing \n",
    "from sklearn.model_selection import KFold, cross_val_score, cross_val_predict\n",
    "from numpy import sqrt, mean, absolute, std\n",
    "\n",
    "def model_acc(model, independent_var, dependent_var):\n",
    "    y_pred = []\n",
    "    #define cross-validation method to use\n",
    "    cv = KFold(n_splits=5, random_state=1, shuffle=True) \n",
    "\n",
    "    #use RMSE to evaluate model\n",
    "    scores = cross_val_score(model, independent_var, dependent_var, scoring='neg_mean_squared_error', cv=cv, n_jobs=-1)\n",
    "    \n",
    "    # get the predictions of the model\n",
    "    y_pred = cross_val_predict(model, independent_var, dependent_var, cv=cv, n_jobs=-1)\n",
    "    \n",
    "    # calculate root mean squared error and standard deviation of scores\n",
    "    print(str(model)+ ' ' + 'RMSE: %.3f' % sqrt(mean(absolute(scores))) + ' ± %.2f' % std(sqrt(absolute(scores))))\n",
    "    return y_pred"
   ]
  },
  {
   "cell_type": "code",
   "execution_count": 21,
   "id": "4d28497d",
   "metadata": {},
   "outputs": [
    {
     "name": "stdout",
     "output_type": "stream",
     "text": [
      "LinearRegression() RMSE: 5.181 ± 0.04\n",
      "SVR() RMSE: 5.139 ± 0.05\n",
      "DecisionTreeRegressor() RMSE: 7.138 ± 0.06\n",
      "RandomForestRegressor() RMSE: 5.636 ± 0.03\n",
      "MLPRegressor() RMSE: 5.102 ± 0.05\n"
     ]
    }
   ],
   "source": [
    "# using regression algorithms to train model\n",
    "\n",
    "# linear regression\n",
    "from sklearn.linear_model import LinearRegression\n",
    "lr = LinearRegression()\n",
    "y_pred_lr = model_acc(lr, scaled_X, y)\n",
    "\n",
    "# support vector regression\n",
    "from sklearn.svm import SVR\n",
    "svr = SVR()\n",
    "y_pred_svr = model_acc(svr, scaled_X, y)\n",
    "\n",
    "# decision treee regression\n",
    "from sklearn.tree import DecisionTreeRegressor\n",
    "dt = DecisionTreeRegressor()\n",
    "y_pred_dt = model_acc(dt, scaled_X, y)\n",
    "\n",
    "# random forest regression\n",
    "from sklearn.ensemble import RandomForestRegressor\n",
    "rf = RandomForestRegressor()\n",
    "y_pred_rf = model_acc(rf, scaled_X, y)\n",
    "\n",
    "# neural network regression\n",
    "from sklearn.neural_network import MLPRegressor \n",
    "mlp = MLPRegressor()\n",
    "y_pred_mlp = model_acc(mlp, scaled_X, y)"
   ]
  },
  {
   "cell_type": "code",
   "execution_count": 22,
   "id": "f210efd2",
   "metadata": {},
   "outputs": [
    {
     "data": {
      "text/html": [
       "<div>\n",
       "<style scoped>\n",
       "    .dataframe tbody tr th:only-of-type {\n",
       "        vertical-align: middle;\n",
       "    }\n",
       "\n",
       "    .dataframe tbody tr th {\n",
       "        vertical-align: top;\n",
       "    }\n",
       "\n",
       "    .dataframe thead th {\n",
       "        text-align: right;\n",
       "    }\n",
       "</style>\n",
       "<table border=\"1\" class=\"dataframe\">\n",
       "  <thead>\n",
       "    <tr style=\"text-align: right;\">\n",
       "      <th></th>\n",
       "      <th>LR_Predicted</th>\n",
       "      <th>SVR_Predicted</th>\n",
       "      <th>DT_Predicted</th>\n",
       "      <th>RF_Predicted</th>\n",
       "      <th>MLP_Predicted</th>\n",
       "      <th>Real</th>\n",
       "    </tr>\n",
       "  </thead>\n",
       "  <tbody>\n",
       "    <tr>\n",
       "      <th>0</th>\n",
       "      <td>1.782896</td>\n",
       "      <td>2.872051</td>\n",
       "      <td>3.406</td>\n",
       "      <td>3.03360</td>\n",
       "      <td>2.511313</td>\n",
       "      <td>0.875</td>\n",
       "    </tr>\n",
       "    <tr>\n",
       "      <th>1</th>\n",
       "      <td>0.520961</td>\n",
       "      <td>-0.771193</td>\n",
       "      <td>1.562</td>\n",
       "      <td>-1.76194</td>\n",
       "      <td>-1.686660</td>\n",
       "      <td>-3.094</td>\n",
       "    </tr>\n",
       "    <tr>\n",
       "      <th>2</th>\n",
       "      <td>2.458800</td>\n",
       "      <td>3.057282</td>\n",
       "      <td>-5.688</td>\n",
       "      <td>-1.00863</td>\n",
       "      <td>2.354038</td>\n",
       "      <td>4.688</td>\n",
       "    </tr>\n",
       "    <tr>\n",
       "      <th>3</th>\n",
       "      <td>2.812907</td>\n",
       "      <td>2.519214</td>\n",
       "      <td>-8.219</td>\n",
       "      <td>-0.86262</td>\n",
       "      <td>2.238160</td>\n",
       "      <td>-5.281</td>\n",
       "    </tr>\n",
       "    <tr>\n",
       "      <th>4</th>\n",
       "      <td>2.919112</td>\n",
       "      <td>2.373587</td>\n",
       "      <td>8.719</td>\n",
       "      <td>2.50851</td>\n",
       "      <td>2.284455</td>\n",
       "      <td>-0.594</td>\n",
       "    </tr>\n",
       "  </tbody>\n",
       "</table>\n",
       "</div>"
      ],
      "text/plain": [
       "   LR_Predicted  SVR_Predicted  DT_Predicted  RF_Predicted  MLP_Predicted  \\\n",
       "0      1.782896       2.872051         3.406       3.03360       2.511313   \n",
       "1      0.520961      -0.771193         1.562      -1.76194      -1.686660   \n",
       "2      2.458800       3.057282        -5.688      -1.00863       2.354038   \n",
       "3      2.812907       2.519214        -8.219      -0.86262       2.238160   \n",
       "4      2.919112       2.373587         8.719       2.50851       2.284455   \n",
       "\n",
       "    Real  \n",
       "0  0.875  \n",
       "1 -3.094  \n",
       "2  4.688  \n",
       "3 -5.281  \n",
       "4 -0.594  "
      ]
     },
     "execution_count": 22,
     "metadata": {},
     "output_type": "execute_result"
    }
   ],
   "source": [
    "# create new dataframe for prediction values and exporting \n",
    "y_real = df_train['Rating'].sample(10000, random_state=100)\n",
    "stat_df = pd.DataFrame({'LR_Predicted':y_pred_lr, 'SVR_Predicted':y_pred_svr, 'DT_Predicted':y_pred_dt, 'RF_Predicted':y_pred_rf, 'MLP_Predicted':y_pred_mlp, 'Real':y_real})\n",
    "stat_df = stat_df.reset_index(drop=True)\n",
    "stat_df.to_excel(\"Technique_01_Predictions.xlsx\", index=False)\n",
    "stat_df.head()"
   ]
  },
  {
   "cell_type": "code",
   "execution_count": 44,
   "id": "96ae8cb3",
   "metadata": {},
   "outputs": [
    {
     "name": "stdout",
     "output_type": "stream",
     "text": [
      "MLPRegressor(activation='tanh') RMSE: 5.162 ± 0.03\n"
     ]
    }
   ],
   "source": [
    "# hyperparameter tuning\n",
    "mlp_tuned = MLPRegressor(activation = 'tanh')\n",
    "y_pred_mlp_tuned = model_acc(mlp_tuned, scaled_X, y)"
   ]
  },
  {
   "cell_type": "code",
   "execution_count": 42,
   "id": "19d9ff6f",
   "metadata": {},
   "outputs": [
    {
     "name": "stdout",
     "output_type": "stream",
     "text": [
      "MLPRegressor(solver='lbfgs') RMSE: 5.103 ± 0.04\n"
     ]
    }
   ],
   "source": [
    "# hyperparameter tuning\n",
    "mlp_tuned = MLPRegressor(solver ='lbfgs')\n",
    "y_pred_mlp_tuned = model_acc(mlp_tuned, scaled_X, y)"
   ]
  },
  {
   "cell_type": "code",
   "execution_count": 50,
   "id": "c97541c7",
   "metadata": {},
   "outputs": [
    {
     "name": "stdout",
     "output_type": "stream",
     "text": [
      "SVR(kernel='sigmoid') RMSE: 398.474 ± 3.77\n"
     ]
    }
   ],
   "source": [
    "# hyperparameter tuning\n",
    "svr_tuned = SVR(kernel = 'sigmoid')\n",
    "y_pred_svr_tuned = model_acc(svr_tuned, scaled_X, y)"
   ]
  },
  {
   "cell_type": "code",
   "execution_count": 23,
   "id": "84951517",
   "metadata": {},
   "outputs": [
    {
     "data": {
      "text/plain": [
       "MLPRegressor()"
      ]
     },
     "execution_count": 23,
     "metadata": {},
     "output_type": "execute_result"
    }
   ],
   "source": [
    "# fitting mlp regression model because it has higher accuracy\n",
    "mlp.fit(scaled_X, y)"
   ]
  },
  {
   "cell_type": "code",
   "execution_count": 24,
   "id": "05adfb0b",
   "metadata": {},
   "outputs": [
    {
     "data": {
      "text/html": [
       "<div>\n",
       "<style scoped>\n",
       "    .dataframe tbody tr th:only-of-type {\n",
       "        vertical-align: middle;\n",
       "    }\n",
       "\n",
       "    .dataframe tbody tr th {\n",
       "        vertical-align: top;\n",
       "    }\n",
       "\n",
       "    .dataframe thead th {\n",
       "        text-align: right;\n",
       "    }\n",
       "</style>\n",
       "<table border=\"1\" class=\"dataframe\">\n",
       "  <thead>\n",
       "    <tr style=\"text-align: right;\">\n",
       "      <th></th>\n",
       "      <th>id</th>\n",
       "      <th>user_id</th>\n",
       "      <th>joke_id</th>\n",
       "    </tr>\n",
       "  </thead>\n",
       "  <tbody>\n",
       "    <tr>\n",
       "      <th>0</th>\n",
       "      <td>6194_11</td>\n",
       "      <td>6194</td>\n",
       "      <td>11</td>\n",
       "    </tr>\n",
       "    <tr>\n",
       "      <th>1</th>\n",
       "      <td>19356_3</td>\n",
       "      <td>19356</td>\n",
       "      <td>3</td>\n",
       "    </tr>\n",
       "    <tr>\n",
       "      <th>2</th>\n",
       "      <td>23426_79</td>\n",
       "      <td>23426</td>\n",
       "      <td>79</td>\n",
       "    </tr>\n",
       "    <tr>\n",
       "      <th>3</th>\n",
       "      <td>40030_3</td>\n",
       "      <td>40030</td>\n",
       "      <td>3</td>\n",
       "    </tr>\n",
       "    <tr>\n",
       "      <th>4</th>\n",
       "      <td>19806_115</td>\n",
       "      <td>19806</td>\n",
       "      <td>115</td>\n",
       "    </tr>\n",
       "  </tbody>\n",
       "</table>\n",
       "</div>"
      ],
      "text/plain": [
       "          id  user_id  joke_id\n",
       "0    6194_11     6194       11\n",
       "1    19356_3    19356        3\n",
       "2   23426_79    23426       79\n",
       "3    40030_3    40030        3\n",
       "4  19806_115    19806      115"
      ]
     },
     "execution_count": 24,
     "metadata": {},
     "output_type": "execute_result"
    }
   ],
   "source": [
    "# load test dataset to dataframe\n",
    "df_test = pd.read_csv(r'C:\\Users\\Supun\\Desktop\\Data Mining\\Project\\Dataset\\test\\test.csv')\n",
    "df_test.head()"
   ]
  },
  {
   "cell_type": "code",
   "execution_count": 25,
   "id": "04f18cee",
   "metadata": {},
   "outputs": [
    {
     "data": {
      "text/html": [
       "<div>\n",
       "<style scoped>\n",
       "    .dataframe tbody tr th:only-of-type {\n",
       "        vertical-align: middle;\n",
       "    }\n",
       "\n",
       "    .dataframe tbody tr th {\n",
       "        vertical-align: top;\n",
       "    }\n",
       "\n",
       "    .dataframe thead th {\n",
       "        text-align: right;\n",
       "    }\n",
       "</style>\n",
       "<table border=\"1\" class=\"dataframe\">\n",
       "  <thead>\n",
       "    <tr style=\"text-align: right;\">\n",
       "      <th></th>\n",
       "      <th>user_id</th>\n",
       "      <th>joke_id</th>\n",
       "    </tr>\n",
       "  </thead>\n",
       "  <tbody>\n",
       "    <tr>\n",
       "      <th>0</th>\n",
       "      <td>6194</td>\n",
       "      <td>11</td>\n",
       "    </tr>\n",
       "    <tr>\n",
       "      <th>1</th>\n",
       "      <td>19356</td>\n",
       "      <td>3</td>\n",
       "    </tr>\n",
       "    <tr>\n",
       "      <th>2</th>\n",
       "      <td>23426</td>\n",
       "      <td>79</td>\n",
       "    </tr>\n",
       "    <tr>\n",
       "      <th>3</th>\n",
       "      <td>40030</td>\n",
       "      <td>3</td>\n",
       "    </tr>\n",
       "    <tr>\n",
       "      <th>4</th>\n",
       "      <td>19806</td>\n",
       "      <td>115</td>\n",
       "    </tr>\n",
       "  </tbody>\n",
       "</table>\n",
       "</div>"
      ],
      "text/plain": [
       "   user_id  joke_id\n",
       "0     6194       11\n",
       "1    19356        3\n",
       "2    23426       79\n",
       "3    40030        3\n",
       "4    19806      115"
      ]
     },
     "execution_count": 25,
     "metadata": {},
     "output_type": "execute_result"
    }
   ],
   "source": [
    "# drop 'id' column\n",
    "df_test_final = df_test.drop(['id'], axis=1)\n",
    "df_test_final.head()"
   ]
  },
  {
   "cell_type": "code",
   "execution_count": 26,
   "id": "a992fca1",
   "metadata": {},
   "outputs": [
    {
     "data": {
      "text/html": [
       "<div>\n",
       "<style scoped>\n",
       "    .dataframe tbody tr th:only-of-type {\n",
       "        vertical-align: middle;\n",
       "    }\n",
       "\n",
       "    .dataframe tbody tr th {\n",
       "        vertical-align: top;\n",
       "    }\n",
       "\n",
       "    .dataframe thead th {\n",
       "        text-align: right;\n",
       "    }\n",
       "</style>\n",
       "<table border=\"1\" class=\"dataframe\">\n",
       "  <thead>\n",
       "    <tr style=\"text-align: right;\">\n",
       "      <th></th>\n",
       "      <th>user_id</th>\n",
       "      <th>joke_id</th>\n",
       "    </tr>\n",
       "  </thead>\n",
       "  <tbody>\n",
       "    <tr>\n",
       "      <th>0</th>\n",
       "      <td>0.151559</td>\n",
       "      <td>0.072464</td>\n",
       "    </tr>\n",
       "    <tr>\n",
       "      <th>1</th>\n",
       "      <td>0.473667</td>\n",
       "      <td>0.014493</td>\n",
       "    </tr>\n",
       "    <tr>\n",
       "      <th>2</th>\n",
       "      <td>0.573271</td>\n",
       "      <td>0.565217</td>\n",
       "    </tr>\n",
       "    <tr>\n",
       "      <th>3</th>\n",
       "      <td>0.979614</td>\n",
       "      <td>0.014493</td>\n",
       "    </tr>\n",
       "    <tr>\n",
       "      <th>4</th>\n",
       "      <td>0.484680</td>\n",
       "      <td>0.826087</td>\n",
       "    </tr>\n",
       "  </tbody>\n",
       "</table>\n",
       "</div>"
      ],
      "text/plain": [
       "    user_id   joke_id\n",
       "0  0.151559  0.072464\n",
       "1  0.473667  0.014493\n",
       "2  0.573271  0.565217\n",
       "3  0.979614  0.014493\n",
       "4  0.484680  0.826087"
      ]
     },
     "execution_count": 26,
     "metadata": {},
     "output_type": "execute_result"
    }
   ],
   "source": [
    "# normalizing dataframe\n",
    "scaler = MinMaxScaler()\n",
    "headers = df_test_final.columns\n",
    "temp_test = scaler.fit_transform(df_test_final)\n",
    "scaled_test = pd.DataFrame(temp_test, columns=headers)\n",
    "scaled_test.head()"
   ]
  },
  {
   "cell_type": "code",
   "execution_count": 27,
   "id": "ed50f06c",
   "metadata": {},
   "outputs": [
    {
     "data": {
      "text/html": [
       "<div>\n",
       "<style scoped>\n",
       "    .dataframe tbody tr th:only-of-type {\n",
       "        vertical-align: middle;\n",
       "    }\n",
       "\n",
       "    .dataframe tbody tr th {\n",
       "        vertical-align: top;\n",
       "    }\n",
       "\n",
       "    .dataframe thead th {\n",
       "        text-align: right;\n",
       "    }\n",
       "</style>\n",
       "<table border=\"1\" class=\"dataframe\">\n",
       "  <thead>\n",
       "    <tr style=\"text-align: right;\">\n",
       "      <th></th>\n",
       "      <th>Rating</th>\n",
       "    </tr>\n",
       "  </thead>\n",
       "  <tbody>\n",
       "    <tr>\n",
       "      <th>0</th>\n",
       "      <td>1.827394</td>\n",
       "    </tr>\n",
       "    <tr>\n",
       "      <th>1</th>\n",
       "      <td>2.578504</td>\n",
       "    </tr>\n",
       "    <tr>\n",
       "      <th>2</th>\n",
       "      <td>2.329292</td>\n",
       "    </tr>\n",
       "    <tr>\n",
       "      <th>3</th>\n",
       "      <td>2.390156</td>\n",
       "    </tr>\n",
       "    <tr>\n",
       "      <th>4</th>\n",
       "      <td>2.454535</td>\n",
       "    </tr>\n",
       "  </tbody>\n",
       "</table>\n",
       "</div>"
      ],
      "text/plain": [
       "     Rating\n",
       "0  1.827394\n",
       "1  2.578504\n",
       "2  2.329292\n",
       "3  2.390156\n",
       "4  2.454535"
      ]
     },
     "execution_count": 27,
     "metadata": {},
     "output_type": "execute_result"
    }
   ],
   "source": [
    "# generate predicted dataset\n",
    "y_pred_test = []\n",
    "y_pred_test = mlp.predict(scaled_test)\n",
    "y_pred_test = pd.DataFrame(y_pred_test, columns =['Rating'])\n",
    "y_pred_test.head()"
   ]
  },
  {
   "cell_type": "code",
   "execution_count": 28,
   "id": "9c6045fe",
   "metadata": {},
   "outputs": [
    {
     "data": {
      "text/html": [
       "<div>\n",
       "<style scoped>\n",
       "    .dataframe tbody tr th:only-of-type {\n",
       "        vertical-align: middle;\n",
       "    }\n",
       "\n",
       "    .dataframe tbody tr th {\n",
       "        vertical-align: top;\n",
       "    }\n",
       "\n",
       "    .dataframe thead th {\n",
       "        text-align: right;\n",
       "    }\n",
       "</style>\n",
       "<table border=\"1\" class=\"dataframe\">\n",
       "  <thead>\n",
       "    <tr style=\"text-align: right;\">\n",
       "      <th></th>\n",
       "      <th>id</th>\n",
       "      <th>Rating</th>\n",
       "    </tr>\n",
       "  </thead>\n",
       "  <tbody>\n",
       "    <tr>\n",
       "      <th>0</th>\n",
       "      <td>6194_11</td>\n",
       "      <td>0</td>\n",
       "    </tr>\n",
       "    <tr>\n",
       "      <th>1</th>\n",
       "      <td>19356_3</td>\n",
       "      <td>0</td>\n",
       "    </tr>\n",
       "    <tr>\n",
       "      <th>2</th>\n",
       "      <td>23426_79</td>\n",
       "      <td>0</td>\n",
       "    </tr>\n",
       "    <tr>\n",
       "      <th>3</th>\n",
       "      <td>40030_3</td>\n",
       "      <td>0</td>\n",
       "    </tr>\n",
       "    <tr>\n",
       "      <th>4</th>\n",
       "      <td>19806_115</td>\n",
       "      <td>0</td>\n",
       "    </tr>\n",
       "  </tbody>\n",
       "</table>\n",
       "</div>"
      ],
      "text/plain": [
       "          id  Rating\n",
       "0    6194_11       0\n",
       "1    19356_3       0\n",
       "2   23426_79       0\n",
       "3    40030_3       0\n",
       "4  19806_115       0"
      ]
     },
     "execution_count": 28,
     "metadata": {},
     "output_type": "execute_result"
    }
   ],
   "source": [
    "# load submission dataset to dataframe\n",
    "df_submission = pd.read_csv(r'C:\\Users\\Supun\\Desktop\\Data Mining\\Project\\Dataset\\sample_submission.csv')\n",
    "df_submission.head()"
   ]
  },
  {
   "cell_type": "code",
   "execution_count": 29,
   "id": "b3d3b3c4",
   "metadata": {},
   "outputs": [
    {
     "data": {
      "text/html": [
       "<div>\n",
       "<style scoped>\n",
       "    .dataframe tbody tr th:only-of-type {\n",
       "        vertical-align: middle;\n",
       "    }\n",
       "\n",
       "    .dataframe tbody tr th {\n",
       "        vertical-align: top;\n",
       "    }\n",
       "\n",
       "    .dataframe thead th {\n",
       "        text-align: right;\n",
       "    }\n",
       "</style>\n",
       "<table border=\"1\" class=\"dataframe\">\n",
       "  <thead>\n",
       "    <tr style=\"text-align: right;\">\n",
       "      <th></th>\n",
       "      <th>id</th>\n",
       "      <th>Rating</th>\n",
       "    </tr>\n",
       "  </thead>\n",
       "  <tbody>\n",
       "    <tr>\n",
       "      <th>0</th>\n",
       "      <td>6194_11</td>\n",
       "      <td>1.827394</td>\n",
       "    </tr>\n",
       "    <tr>\n",
       "      <th>1</th>\n",
       "      <td>19356_3</td>\n",
       "      <td>2.578504</td>\n",
       "    </tr>\n",
       "    <tr>\n",
       "      <th>2</th>\n",
       "      <td>23426_79</td>\n",
       "      <td>2.329292</td>\n",
       "    </tr>\n",
       "    <tr>\n",
       "      <th>3</th>\n",
       "      <td>40030_3</td>\n",
       "      <td>2.390156</td>\n",
       "    </tr>\n",
       "    <tr>\n",
       "      <th>4</th>\n",
       "      <td>19806_115</td>\n",
       "      <td>2.454535</td>\n",
       "    </tr>\n",
       "  </tbody>\n",
       "</table>\n",
       "</div>"
      ],
      "text/plain": [
       "          id    Rating\n",
       "0    6194_11  1.827394\n",
       "1    19356_3  2.578504\n",
       "2   23426_79  2.329292\n",
       "3    40030_3  2.390156\n",
       "4  19806_115  2.454535"
      ]
     },
     "execution_count": 29,
     "metadata": {},
     "output_type": "execute_result"
    }
   ],
   "source": [
    "# create submission dataframe\n",
    "df_submission = df_submission.drop(['Rating'], axis=1)\n",
    "submit = pd.merge(df_submission, y_pred_test, left_index=True, right_index=True, how='outer')\n",
    "submit.head()"
   ]
  },
  {
   "cell_type": "code",
   "execution_count": 30,
   "id": "ded839c0",
   "metadata": {},
   "outputs": [],
   "source": [
    "# export submission file\n",
    "submit.to_csv('Technique_01_Submission.csv',index=False)"
   ]
  },
  {
   "cell_type": "code",
   "execution_count": null,
   "id": "fb922d03",
   "metadata": {},
   "outputs": [],
   "source": []
  }
 ],
 "metadata": {
  "kernelspec": {
   "display_name": "Python 3 (ipykernel)",
   "language": "python",
   "name": "python3"
  },
  "language_info": {
   "codemirror_mode": {
    "name": "ipython",
    "version": 3
   },
   "file_extension": ".py",
   "mimetype": "text/x-python",
   "name": "python",
   "nbconvert_exporter": "python",
   "pygments_lexer": "ipython3",
   "version": "3.9.7"
  }
 },
 "nbformat": 4,
 "nbformat_minor": 5
}
